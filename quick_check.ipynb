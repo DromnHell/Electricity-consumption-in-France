{
 "cells": [
  {
   "cell_type": "markdown",
   "id": "8d8c2516-8150-457b-b7ca-b669abb52a83",
   "metadata": {},
   "source": [
    "# Quick check"
   ]
  },
  {
   "cell_type": "code",
   "execution_count": 1,
   "id": "a00e0056-6a92-48b1-a8ab-1928121192fc",
   "metadata": {},
   "outputs": [],
   "source": [
    "import pandas as pd\n",
    "import numpy as np\n",
    "import seaborn as sns\n",
    "import matplotlib.pyplot as plt\n",
    "import matplotlib.dates as mdates\n",
    "%matplotlib inline"
   ]
  },
  {
   "cell_type": "code",
   "execution_count": 2,
   "id": "94f632cb-b902-4ded-9190-d809652c537a",
   "metadata": {},
   "outputs": [],
   "source": [
    "df = pd.read_csv(\"final_df.csv\", parse_dates = [\"Date\"], low_memory = False )"
   ]
  },
  {
   "cell_type": "code",
   "execution_count": 3,
   "id": "6beeedca-2b70-4025-bd1a-4c41842791f8",
   "metadata": {},
   "outputs": [
    {
     "name": "stdout",
     "output_type": "stream",
     "text": [
      "Total covered period : from 1990-10-27 00:00:00 to 2030-12-25 00:00:00\n"
     ]
    }
   ],
   "source": [
    "# Total date range\n",
    "\n",
    "print(\"Total covered period : from {} to {}\".format(df['Date'].min(), df['Date'].max()))"
   ]
  },
  {
   "cell_type": "code",
   "execution_count": 4,
   "id": "99b1fed9-edee-432a-ba9d-945a45211e11",
   "metadata": {},
   "outputs": [
    {
     "name": "stdout",
     "output_type": "stream",
     "text": [
      "\n",
      "Percentage of missing values by column : Périmètre                                0.736114\n",
      "Nature                                   0.736114\n",
      "Date                                     0.000000\n",
      "Heures                                   0.736114\n",
      "Consommation                            42.048294\n",
      "Prévision J-1                            0.756284\n",
      "Prévision J                              0.776879\n",
      "Fioul                                   42.048294\n",
      "Charbon                                 42.048294\n",
      "Gaz                                     42.048294\n",
      "Nucléaire                               42.048294\n",
      "Eolien                                  42.048294\n",
      "Solaire                                 42.048294\n",
      "Hydraulique                             42.048294\n",
      "Pompage                                 42.048294\n",
      "Bioénergies                             42.048294\n",
      "Ech. physiques                          42.048294\n",
      "Taux de Co2                             42.048294\n",
      "Ech. comm. Angleterre                   47.393877\n",
      "Ech. comm. Espagne                      47.261389\n",
      "Ech. comm. Italie                       47.263513\n",
      "Ech. comm. Suisse                       47.261389\n",
      "Ech. comm. Allemagne-Belgique           47.271581\n",
      "Fioul - TAC                             45.778546\n",
      "Fioul - Cogén.                          45.778546\n",
      "Fioul - Autres                          45.778546\n",
      "Gaz - TAC                               45.778971\n",
      "Gaz - Cogén.                            45.780032\n",
      "Gaz - CCG                               45.778546\n",
      "Gaz - Autres                            45.778546\n",
      "Hydraulique - Fil de l?eau + éclusée    45.780244\n",
      "Hydraulique - Lacs                      45.779183\n",
      "Hydraulique - STEP turbinage            45.778546\n",
      "Bioénergies - Déchets                   45.778758\n",
      "Bioénergies - Biomasse                  45.778546\n",
      "Bioénergies - Biogaz                    45.778546\n",
      " Stockage batterie                      76.556465\n",
      "Déstockage batterie                     76.556465\n",
      "Eolien terrestre                        79.022351\n",
      "Eolien offshore                         79.022351\n",
      "Type de jour TEMPO                      20.609274\n",
      "Avg_temp_min                            46.678783\n",
      "Avg_temp_max                            46.678783\n",
      "Avg_temp_mean                           46.678783\n",
      "Bank holidays                            0.000000\n",
      "School holidays                          0.000000\n",
      "dtype: float64\n"
     ]
    }
   ],
   "source": [
    "# Percentage of missing values by column\n",
    "\n",
    "n = len(df)\n",
    "missing_pct = df.isna().sum() / n * 100\n",
    "\n",
    "print(f\"\\nPercentage of missing values by column : {missing_pct}\")"
   ]
  },
  {
   "cell_type": "code",
   "execution_count": 5,
   "id": "46876250-1ee0-4549-bf7f-b8be38a3cfbd",
   "metadata": {},
   "outputs": [
    {
     "name": "stdout",
     "output_type": "stream",
     "text": [
      "Covered consumption period : from 2012-01-01 00:00:00 to 2025-04-29 00:00:00\n"
     ]
    }
   ],
   "source": [
    "# Consumption period\n",
    "\n",
    "min_date, max_date = (df.dropna(subset=['Consommation'])['Date'].min(),\n",
    "                     df.dropna(subset=['Consommation'])['Date'].max())\n",
    "\n",
    "print(f\"Covered consumption period : from {min_date} to {max_date}\")"
   ]
  },
  {
   "cell_type": "code",
   "execution_count": 6,
   "id": "f15febbc-4505-4aa5-9b3a-57cbe2e78028",
   "metadata": {},
   "outputs": [
    {
     "name": "stdout",
     "output_type": "stream",
     "text": [
      "\n",
      "Percentage of missing values by column during the consumption period : Périmètre                                0.000000\n",
      "Nature                                   0.000000\n",
      "Date                                     0.000000\n",
      "Heures                                   0.000000\n",
      "Consommation                            41.594555\n",
      "Prévision J-1                            0.000000\n",
      "Prévision J                              0.000000\n",
      "Fioul                                   41.594555\n",
      "Charbon                                 41.594555\n",
      "Gaz                                     41.594555\n",
      "Nucléaire                               41.594555\n",
      "Eolien                                  41.594555\n",
      "Solaire                                 41.594555\n",
      "Hydraulique                             41.594555\n",
      "Pompage                                 41.594555\n",
      "Bioénergies                             41.594555\n",
      "Ech. physiques                          41.594555\n",
      "Taux de Co2                             41.594555\n",
      "Ech. comm. Angleterre                   46.981991\n",
      "Ech. comm. Espagne                      46.848466\n",
      "Ech. comm. Italie                       46.850606\n",
      "Ech. comm. Suisse                       46.848466\n",
      "Ech. comm. Allemagne-Belgique           46.858737\n",
      "Fioul - TAC                             45.354013\n",
      "Fioul - Cogén.                          45.354013\n",
      "Fioul - Autres                          45.354013\n",
      "Gaz - TAC                               45.354441\n",
      "Gaz - Cogén.                            45.355510\n",
      "Gaz - CCG                               45.354013\n",
      "Gaz - Autres                            45.354013\n",
      "Hydraulique - Fil de l?eau + éclusée    45.355724\n",
      "Hydraulique - Lacs                      45.354655\n",
      "Hydraulique - STEP turbinage            45.354013\n",
      "Bioénergies - Déchets                   45.354227\n",
      "Bioénergies - Biomasse                  45.354013\n",
      "Bioénergies - Biogaz                    45.354013\n",
      " Stockage batterie                      76.372912\n",
      "Déstockage batterie                     76.372912\n",
      "Eolien terrestre                        78.858104\n",
      "Eolien offshore                         78.858104\n",
      "Type de jour TEMPO                      20.008217\n",
      "Avg_temp_min                            46.261298\n",
      "Avg_temp_max                            46.261298\n",
      "Avg_temp_mean                           46.261298\n",
      "Bank holidays                            0.000000\n",
      "School holidays                          0.000000\n",
      "dtype: float64\n"
     ]
    }
   ],
   "source": [
    "# Percentage of missing values by column on the consumption period (divided into quarter hours)\n",
    "\n",
    "min_date, max_date = (\n",
    "    df.dropna(subset=['Consommation'])['Date'].min(),\n",
    "    df.dropna(subset=['Consommation'])['Date'].max()\n",
    ")\n",
    "\n",
    "mask = (df['Date'] >= min_date) & (df['Date'] <= max_date)\n",
    "df_cons = df.loc[mask]\n",
    "\n",
    "n = len(df_cons)\n",
    "missing_pct = df_cons.isna().sum() / n * 100\n",
    "\n",
    "print(f\"\\nPercentage of missing values by column during the consumption period : {missing_pct}\")"
   ]
  },
  {
   "cell_type": "code",
   "execution_count": 7,
   "id": "0e7b761e-d76f-4ab9-aea7-689d78800068",
   "metadata": {},
   "outputs": [
    {
     "name": "stdout",
     "output_type": "stream",
     "text": [
      "            Percentage of quarters with no consumption datas\n",
      "Jour                                                        \n",
      "2012-01-01                                              50.0\n",
      "2012-01-02                                              50.0\n",
      "2012-01-03                                              50.0\n",
      "2012-01-04                                              50.0\n",
      "2012-01-05                                              50.0\n"
     ]
    }
   ],
   "source": [
    "# Percentage of quarter in a day with no consumption data\n",
    "\n",
    "min_date, max_date = (\n",
    "    df.dropna(subset=['Consommation'])['Date'].min(),\n",
    "    df.dropna(subset=['Consommation'])['Date'].max()\n",
    ")\n",
    "\n",
    "mask = (df['Date'] >= min_date) & (df['Date'] <= max_date)\n",
    "df_cons = df.loc[mask].copy()\n",
    "df_cons['Jour'] = df_cons['Date'].dt.date\n",
    "\n",
    "daily_count = (\n",
    "    df_cons.groupby('Jour')['Consommation']\n",
    "      .apply(lambda x: x.notna().sum())\n",
    ")\n",
    "\n",
    "daily_pct = daily_count / 96 * 100\n",
    "\n",
    "summary = pd.DataFrame({\n",
    "    'Percentage of quarters with no consumption datas': daily_pct\n",
    "})\n",
    "\n",
    "print(summary.head())"
   ]
  },
  {
   "cell_type": "code",
   "execution_count": 8,
   "id": "b1d9fffc-ef30-4472-9342-92231f9833b2",
   "metadata": {},
   "outputs": [
    {
     "name": "stdout",
     "output_type": "stream",
     "text": [
      "Percentage of days with no consumption data : 0.0%\n"
     ]
    }
   ],
   "source": [
    "# Percentage of days with no consumption data\n",
    "\n",
    "min_date, max_date = (\n",
    "    df.dropna(subset=['Consommation'])['Date'].min(),\n",
    "    df.dropna(subset=['Consommation'])['Date'].max()\n",
    ")\n",
    "\n",
    "mask = (df['Date'] >= min_date) & (df['Date'] <= max_date)\n",
    "df_cons = df.loc[mask].copy()\n",
    "df_cons['Jour'] = df_cons['Date'].dt.date\n",
    "\n",
    "valid_counts = df_cons.groupby('Jour')['Consommation'].apply(lambda x: x.notna().sum())\n",
    "\n",
    "total_days       = valid_counts.shape[0]\n",
    "days_no_data     = (valid_counts == 0).sum()\n",
    "pct_no_data = days_no_data / total_days * 100\n",
    "\n",
    "print(f\"Percentage of days with no consumption data : {pct_no_data}%\")"
   ]
  },
  {
   "cell_type": "code",
   "execution_count": 9,
   "id": "2543b168-d101-4118-a700-1842270a67ea",
   "metadata": {},
   "outputs": [
    {
     "name": "stdout",
     "output_type": "stream",
     "text": [
      "\n",
      "Nombre de lignes dupliquées : 0\n"
     ]
    }
   ],
   "source": [
    "# Duplicates\n",
    "\n",
    "dups = df.duplicated().sum()\n",
    "print(f\"\\nNombre de lignes dupliquées : {dups}\")"
   ]
  },
  {
   "cell_type": "code",
   "execution_count": 10,
   "id": "d1aaca6c-e82f-4045-8b84-10812c7302e3",
   "metadata": {},
   "outputs": [
    {
     "name": "stdout",
     "output_type": "stream",
     "text": [
      "5e percentile : 36003.0, 95e percentile : 74137.0\n"
     ]
    }
   ],
   "source": [
    "# Consumption outliers\n",
    "\n",
    "cons = df['Consommation'].dropna()\n",
    "q1, q3 = cons.quantile([.05, .95])\n",
    "print(f\"5e percentile : {q1}, 95e percentile : {q3}\")"
   ]
  }
 ],
 "metadata": {
  "kernelspec": {
   "display_name": "Python 3 (ipykernel)",
   "language": "python",
   "name": "python3"
  },
  "language_info": {
   "codemirror_mode": {
    "name": "ipython",
    "version": 3
   },
   "file_extension": ".py",
   "mimetype": "text/x-python",
   "name": "python",
   "nbconvert_exporter": "python",
   "pygments_lexer": "ipython3",
   "version": "3.12.9"
  }
 },
 "nbformat": 4,
 "nbformat_minor": 5
}
